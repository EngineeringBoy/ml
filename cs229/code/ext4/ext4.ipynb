{
 "cells": [
  {
   "cell_type": "code",
   "execution_count": 88,
   "metadata": {},
   "outputs": [],
   "source": [
    "import numpy as np\n",
    "from scipy import io"
   ]
  },
  {
   "cell_type": "code",
   "execution_count": 89,
   "metadata": {},
   "outputs": [],
   "source": [
    "data1 = io.loadmat('ex4data1.mat')\n",
    "X = data1['X']\n",
    "y = data1['y']\n",
    "weights = io.loadmat('ex4weights.mat')\n",
    "theta1 = weights['Theta1']\n",
    "theta2 = weights['Theta2']"
   ]
  },
  {
   "cell_type": "code",
   "execution_count": 90,
   "metadata": {},
   "outputs": [
    {
     "data": {
      "image/png": "[encoded data removed]",
      "text/plain": [
       "<Figure size 432x288 with 1 Axes>"
      ]
     },
     "metadata": {
      "needs_background": "light"
     },
     "output_type": "display_data"
    }
   ],
   "source": [
    "import matplotlib.pyplot as plt\n",
    "import random\n",
    "ax = plt.subplot(111)\n",
    "index = random.randint(1,5000)\n",
    "ax.imshow(X[index].reshape(20,20))\n",
    "plt.show()"
   ]
  },
  {
   "cell_type": "code",
   "execution_count": 91,
   "metadata": {},
   "outputs": [],
   "source": [
    "def serialization(y, classes):\n",
    "    ret = np.zeros((y.shape[0],classes))\n",
    "    for i,j in enumerate(y.ravel()):\n",
    "        tmp = np.zeros((classes))\n",
    "        tmp[j-1] = 1\n",
    "        ret[i] = tmp\n",
    "    return ret"
   ]
  },
  {
   "cell_type": "code",
   "execution_count": 92,
   "metadata": {
    "tags": []
   },
   "outputs": [
    {
     "name": "stdout",
     "output_type": "stream",
     "text": [
      "(5000, 10)\n"
     ]
    }
   ],
   "source": [
    "serial_y = serialization(y, 10)\n",
    "print(serial_y.shape)"
   ]
  },
  {
   "cell_type": "code",
   "execution_count": 93,
   "metadata": {},
   "outputs": [],
   "source": [
    "def sigmoid(z):\n",
    "    return 1 / (1+np.exp(-z))"
   ]
  },
  {
   "cell_type": "code",
   "execution_count": 94,
   "metadata": {},
   "outputs": [],
   "source": [
    "def hTheta(theta1, theta2, x):\n",
    "    output1 = sigmoid(np.dot(x, theta1.T))\n",
    "    output1 = np.insert(output1, 0, 1, axis=1)\n",
    "    output2 = sigmoid(np.dot(output1, theta2.T))\n",
    "    return output2\n",
    "\n",
    "def nnCostFunction(theta1, theta2, X, y):\n",
    "    X = np.insert(X, 0, 1, axis=1)\n",
    "    y = serialization(y, 10)\n",
    "    loss = 0.0\n",
    "    for i in range(X.shape[0]):\n",
    "        X_i = np.matrix(X[i,:])\n",
    "        y_i = np.matrix(y[i,:])\n",
    "        theta1 = np.matrix(theta1)\n",
    "        theta2 = np.matrix(theta2)\n",
    "        pos = np.multiply(-y_i, np.log(hTheta(theta1, theta2, X_i)))\n",
    "        neg = np.multiply((1-y_i), np.log(1-hTheta(theta1, theta2, X_i)))\n",
    "        loss_i = np.sum(pos - neg)\n",
    "        loss += loss_i\n",
    "    loss /= len(y)\n",
    "    return loss"
   ]
  },
  {
   "cell_type": "code",
   "execution_count": 95,
   "metadata": {
    "tags": []
   },
   "outputs": [
    {
     "name": "stdout",
     "output_type": "stream",
     "text": [
      "0.2876291651613188\n"
     ]
    }
   ],
   "source": [
    "print(nnCostFunction(theta1,theta2,X,y))"
   ]
  },
  {
   "cell_type": "code",
   "execution_count": 96,
   "metadata": {},
   "outputs": [],
   "source": [
    "def nnCostFunctionReg(theta1, theta2, X, y, r):\n",
    "    X = np.insert(X, 0, 1, axis=1)\n",
    "    y = serialization(y, 10)\n",
    "    loss = 0.0\n",
    "    for i in range(X.shape[0]):\n",
    "        X_i = np.matrix(X[i,:])\n",
    "        y_i = np.matrix(y[i,:])\n",
    "        theta1 = np.matrix(theta1)\n",
    "        theta2 = np.matrix(theta2)\n",
    "        pos = np.multiply(-y_i, np.log(hTheta(theta1, theta2, X_i)))\n",
    "        neg = np.multiply((1-y_i), np.log(1-hTheta(theta1, theta2, X_i)))\n",
    "        loss_i = np.sum(pos - neg)\n",
    "        loss += loss_i\n",
    "    loss /= len(y)\n",
    "    reg = (r / (2 * len(y))) * (np.sum(np.multiply(theta1,theta1)) + np.sum(np.multiply(theta2,theta2)))\n",
    "    loss += reg\n",
    "    return loss\n",
    "\n",
    "def nnCostFunctionReg1(theta1, theta2, X, y, r):\n",
    "    X = np.insert(X, 0, 1, axis=1)\n",
    "    y = serialization(y, 10)\n",
    "    pos = np.multiply(-y, np.log(hTheta(theta1,theta2,X)))\n",
    "    neg = np.multiply((1-y),np.log(1-hTheta(theta1,theta2,X)))\n",
    "    reg = (r / 2) * (np.sum(np.multiply(theta1,theta1)) + np.sum(np.multiply(theta2,theta2)))\n",
    "    loss = (np.sum(pos - neg) + reg) / len(y)\n",
    "    return loss"
   ]
  },
  {
   "cell_type": "code",
   "execution_count": 97,
   "metadata": {},
   "outputs": [
    {
     "name": "stdout",
     "output_type": "stream",
     "text": [
      "0.38448779624289386\n",
      "0.384487796242894\n"
     ]
    }
   ],
   "source": [
    "print(nnCostFunctionReg(theta1,theta2,X,y,1))\n",
    "print(nnCostFunctionReg1(theta1,theta2,X,y,1))"
   ]
  },
  {
   "cell_type": "markdown",
   "metadata": {},
   "source": [
    "### 2.1 Sigmoid Gradient"
   ]
  },
  {
   "cell_type": "code",
   "execution_count": 98,
   "metadata": {},
   "outputs": [],
   "source": [
    "def sigmoidGradient(z):\n",
    "    return np.multiply(sigmoid(z), (1 - sigmoid(z)))"
   ]
  },
  {
   "cell_type": "code",
   "execution_count": 99,
   "metadata": {},
   "outputs": [
    {
     "data": {
      "image/png": "[encoded data removed]",
      "text/plain": [
       "<Figure size 864x576 with 1 Axes>"
      ]
     },
     "metadata": {
      "needs_background": "light"
     },
     "output_type": "display_data"
    }
   ],
   "source": [
    "test_x = np.linspace(-10, 10, 100)\n",
    "test_y = sigmoidGradient(test_x)\n",
    "_, ax = plt.subplots(figsize=(12,8))\n",
    "ax.plot(test_x, test_y, c='r', label='Sigmoid Gradient')\n",
    "ax.legend(loc='best')\n",
    "plt.show()"
   ]
  },
  {
   "cell_type": "markdown",
   "metadata": {},
   "source": [
    "### 2.2 Random initialization"
   ]
  },
  {
   "cell_type": "code",
   "execution_count": 100,
   "metadata": {},
   "outputs": [],
   "source": [
    "new_theta1 = (np.random.rand(theta1.shape[0],theta1.shape[1])-0.5)*0.24\n",
    "new_theta2 = (np.random.rand(theta2.shape[0],theta2.shape[1])-0.5)*0.24"
   ]
  },
  {
   "cell_type": "code",
   "execution_count": 101,
   "metadata": {},
   "outputs": [
    {
     "name": "stdout",
     "output_type": "stream",
     "text": [
      "6.80485315330218\n"
     ]
    }
   ],
   "source": [
    "print(nnCostFunctionReg1(new_theta1,new_theta2,X,y,1))"
   ]
  },
  {
   "cell_type": "code",
   "execution_count": 102,
   "metadata": {},
   "outputs": [
    {
     "name": "stdout",
     "output_type": "stream",
     "text": [
      "(10, 26)\n"
     ]
    }
   ],
   "source": [
    "print(new_theta2.shape)"
   ]
  },
  {
   "cell_type": "code",
   "execution_count": 103,
   "metadata": {},
   "outputs": [],
   "source": [
    "class Layers():\n",
    "    def __init__(self, name):\n",
    "        self.name = name\n",
    "    def forward(self, x):\n",
    "        pass\n",
    "    def backward(self, grad_out):\n",
    "        pass\n",
    "    def update(self, lr=1e-3):\n",
    "        pass\n",
    "    def zero_grad(self):\n",
    "        pass\n",
    "    def comput_regularization(self):\n",
    "        pass\n",
    "\n",
    "class Model():\n",
    "    def __init__(self):\n",
    "        self.layers = []\n",
    "    def forward(self, x):\n",
    "        for layer in self.layers:\n",
    "            x = layer.forward(x)\n",
    "        return x\n",
    "    def backward(self, grad):\n",
    "        for layer in reversed(self.layers):\n",
    "            layer.zero_grad()\n",
    "            grad = layer.backward(grad)\n",
    "    def step(self, lr=1e-3):\n",
    "        for layer in reversed(self.layers):\n",
    "            layer.update(lr)"
   ]
  },
  {
   "cell_type": "code",
   "execution_count": 104,
   "metadata": {},
   "outputs": [],
   "source": [
    "class FC(Layers):\n",
    "    def __init__(self, name, in_channels, out_channels, r=1):\n",
    "        super(FC, self).__init__(name)\n",
    "        self.weights = np.random.standard_normal((in_channels, out_channels))\n",
    "        self.grad = np.zeros((in_channels, out_channels))\n",
    "        self.r = r\n",
    "    def forward(self, input):\n",
    "        input = np.insert(input, 0, 1, axis=1)\n",
    "        return sigmoid(np.dot(input, self.weights))\n",
    "    def backward(self, grad):\n",
    "        pass\n",
    "    def comput_regularization(self):\n",
    "        return (self.r / 2) * np.sum(np.multiply(self.weights, self.weights))\n",
    "        "
   ]
  },
  {
   "cell_type": "code",
   "execution_count": 105,
   "metadata": {},
   "outputs": [],
   "source": [
    "class Net(Model):\n",
    "    def __init__(self):\n",
    "        super(Net).__init__()\n",
    "        self.layers = [\n",
    "            FC(name='FC1', in_channels=401, out_channels=25),\n",
    "            FC(name='FC2', in_channels=26, out_channels=10),\n",
    "        ]"
   ]
  },
  {
   "cell_type": "code",
   "execution_count": 106,
   "metadata": {},
   "outputs": [],
   "source": [
    "net = Net()\n",
    "y_true = serialization(y, 10)\n",
    "y_pred = net.forward(X)"
   ]
  },
  {
   "cell_type": "code",
   "execution_count": 107,
   "metadata": {},
   "outputs": [],
   "source": [
    "class Loss():\n",
    "    def __init__(self, name, net, r=1):\n",
    "        self.net = net\n",
    "        self.name = name\n",
    "        self.r = r\n",
    "    def compute(self, y_true, y_pred):\n",
    "        pos = np.multiply(-y_true, np.log(y_pred))\n",
    "        neg = np.multiply((1-y_true), np.log(1-y_pred))\n",
    "        penalty = 0\n",
    "        for layer in self.net.layers:\n",
    "            penalty += layer.comput_regularization()\n",
    "        return (np.sum(pos-neg) + penalty) / len(y_true)"
   ]
  },
  {
   "cell_type": "code",
   "execution_count": 108,
   "metadata": {},
   "outputs": [
    {
     "data": {
      "text/plain": [
       "10.663313134500106"
      ]
     },
     "execution_count": 108,
     "metadata": {},
     "output_type": "execute_result"
    }
   ],
   "source": [
    "loss = Loss('loss', net)\n",
    "loss.compute(y_true, y_pred)"
   ]
  },
  {
   "cell_type": "code",
   "execution_count": 109,
   "metadata": {},
   "outputs": [
    {
     "name": "stdout",
     "output_type": "stream",
     "text": [
      "10.663313134500106\n"
     ]
    }
   ],
   "source": [
    "print(nnCostFunctionReg1(net.layers[0].weights.T,net.layers[1].weights.T,X,y,1))"
   ]
  },
  {
   "cell_type": "code",
   "execution_count": null,
   "metadata": {},
   "outputs": [],
   "source": []
  }
 ],
 "metadata": {
  "interpreter": {
   "hash": "35524d125428a22757b8f2700936368ee3054fc34558f43c338ba960b6717a39"
  },
  "kernelspec": {
   "display_name": "Python 3.8.8 64-bit ('tf2': conda)",
   "name": "python3"
  },
  "language_info": {
   "codemirror_mode": {
    "name": "ipython",
    "version": 3
   },
   "file_extension": ".py",
   "mimetype": "text/x-python",
   "name": "python",
   "nbconvert_exporter": "python",
   "pygments_lexer": "ipython3",
   "version": "3.8.8"
  },
  "orig_nbformat": 4
 },
 "nbformat": 4,
 "nbformat_minor": 2
}